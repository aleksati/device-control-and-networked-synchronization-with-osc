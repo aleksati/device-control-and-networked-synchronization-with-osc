{
 "cells": [
  {
   "cell_type": "markdown",
   "id": "23e85649",
   "metadata": {},
   "source": [
    "# Example 2 - Networked Controlled Metronome\n",
    "\n",
    "The second example demonstrates how we can begin to control and synchronize audio over the network using OSC. The code expands on example 1, but here we continously send \"tick\" messages to the remote client to control a metronome. Similarly, we listen for \"tick\" messages on our server to control a local metronome audio playback.\n",
    "\n",
    "\n",
    "### Files \n",
    "1. Notebook \"Example 2 - Networked Controlled Metronome\"\n",
    "2. Metronome tick \"./tick.wav\"\n",
    "3. Pure Data patch example1.pd from \"../pd/example2.pd\"\n",
    "4. Metronome tick \"../pd/tick.wav\"\n",
    "\n",
    "<p align=\"left\">\n",
    " <img src=\"../../fig/example2.jpg\" width=500>\n",
    "</p>"
   ]
  },
  {
   "cell_type": "code",
   "execution_count": null,
   "id": "fcbf430d",
   "metadata": {},
   "outputs": [],
   "source": [
    "# setup our connection variables \n",
    "# remote client ip and port\n",
    "clientIp = '127.0.0.1'\n",
    "clientPort = 8001\n",
    "\n",
    "# local server ip and port\n",
    "serverIp = '127.0.0.1'\n",
    "serverPort = 8000"
   ]
  },
  {
   "cell_type": "markdown",
   "id": "8b53b522",
   "metadata": {},
   "source": [
    "## Connect with PD client"
   ]
  },
  {
   "cell_type": "code",
   "execution_count": null,
   "id": "922a5152",
   "metadata": {},
   "outputs": [],
   "source": [
    "from pythonosc import udp_client\n",
    "\n",
    "# Setup a client connection and send messages to PD\n",
    "client = udp_client.UDPClient(clientIp, clientPort)\n",
    "print(f'Starting client on {clientIp}, port {clientPort}.')"
   ]
  },
  {
   "cell_type": "code",
   "execution_count": null,
   "id": "21de30d8",
   "metadata": {},
   "outputs": [],
   "source": [
    "from pythonosc import osc_bundle_builder\n",
    "from pythonosc import osc_message_builder\n",
    "import time\n",
    "\n",
    "# send OSC frames (custom bundles) with tick messages to the client\n",
    "while True:\n",
    "    # open a OSC bundle\n",
    "    bundle = osc_bundle_builder.OscBundleBuilder(\n",
    "        osc_bundle_builder.IMMEDIATELY)\n",
    "\n",
    "    # create a message with an OSC address\n",
    "    msg = osc_message_builder.OscMessageBuilder(address=\"/pd\")\n",
    "\n",
    "    # add arguments to the message\n",
    "    msg.add_arg(\"tick\")\n",
    "\n",
    "    # build the message and add to current bundle\n",
    "    bundle.add_content(msg.build())\n",
    "\n",
    "    # close OSC bundle\n",
    "    bundle = bundle.build()\n",
    "\n",
    "    # send the bundle to remote client\n",
    "    client.send(bundle)\n",
    "\n",
    "    # One frame every half second\n",
    "    time.sleep(.5)\n",
    "\n",
    "print(\"done sending...\")"
   ]
  },
  {
   "cell_type": "markdown",
   "id": "d294db4c",
   "metadata": {},
   "source": [
    "## Serve an OSC server"
   ]
  },
  {
   "cell_type": "code",
   "execution_count": null,
   "id": "fbf93eb6",
   "metadata": {},
   "outputs": [],
   "source": [
    "from pythonosc import dispatcher\n",
    "from pythonosc import osc_server\n",
    "from playsound import playsound\n",
    "\n",
    "audio = \"./tick.wav\"\n",
    "\n",
    "# Setup different \"routes\" where we can map different functions to different OSC adressess we receive.\n",
    "def pyHandler(address, args):\n",
    "    print(f'{address} {args}')\n",
    "    \n",
    "    if args == \"tick\":\n",
    "        # play the tick audio file from the root dir\n",
    "        playsound(audio)\n",
    "\n",
    "dispatcher = dispatcher.Dispatcher()\n",
    "dispatcher.map(\"/py*\", pyHandler)\n",
    "\n",
    "# A simple OSC threading server to listen for OSC messages\n",
    "server = osc_server.ThreadingOSCUDPServer((serverIp, serverPort), dispatcher)\n",
    "print(f'Starting server on {server.server_address[0]}, port {server.server_address[1]}.')\n",
    "\n",
    "# run our server\n",
    "server.serve_forever()"
   ]
  },
  {
   "cell_type": "code",
   "execution_count": null,
   "id": "d903949a",
   "metadata": {},
   "outputs": [],
   "source": [
    "# closing the OSC server\n",
    "server.server_close()"
   ]
  },
  {
   "cell_type": "markdown",
   "id": "7a2f16ea",
   "metadata": {},
   "source": [
    "## Activity\n",
    "\n",
    "(same as example 1)\n",
    "\n",
    "1. Test and explore the example on your local machine. Use \"localhost\" or \"127.0.0.1\" as your client and server IPs.\n",
    "2. Test and play around with the example on a Wi-Fi or wired network in pairs.\n",
    "\n",
    "Most likely, you will notice that controlling the metronome over Wi-Fi is quite unstable, with periodic dropouts due to network jitter and latency."
   ]
  }
 ],
 "metadata": {
  "kernelspec": {
   "display_name": "Python 3 (ipykernel)",
   "language": "python",
   "name": "python3"
  },
  "language_info": {
   "codemirror_mode": {
    "name": "ipython",
    "version": 3
   },
   "file_extension": ".py",
   "mimetype": "text/x-python",
   "name": "python",
   "nbconvert_exporter": "python",
   "pygments_lexer": "ipython3",
   "version": "3.9.16"
  }
 },
 "nbformat": 4,
 "nbformat_minor": 5
}
