{
 "cells": [
  {
   "cell_type": "markdown",
   "id": "a6db6364",
   "metadata": {},
   "source": [
    "# Example 1 - Simple p2p Connection\n",
    "\n",
    "Example 1 demonstrates how we can setup a simple 2-way p2p OSC communication between Python and Pure Data. First, we define a client and semd 10 \"hello\" messages to a remote client (PD). Then, we set up a simple server that listens for OSC messages from remote clients.\n",
    "\n",
    "https://python-osc.readthedocs.io/en/latest/index.html\n",
    "\n",
    "### Files \n",
    "1. Notebook \"Example 1 - Simple p2p\"\n",
    "2. Pure Data patch example1.pd from \"../pd/example1.pd\"\n",
    "\n",
    "<p align=\"left\">\n",
    " <img src=\"../../fig/example1.jpg\" width=500>\n",
    "</p>"
   ]
  },
  {
   "cell_type": "code",
   "execution_count": null,
   "id": "d6913566",
   "metadata": {},
   "outputs": [],
   "source": [
    "# setup our connection variables \n",
    "# remote client ip and port\n",
    "clientIp = '127.0.0.1'\n",
    "clientPort = 8001\n",
    "\n",
    "# local server ip and port\n",
    "serverIp = '127.0.0.1'\n",
    "serverPort = 8000"
   ]
  },
  {
   "cell_type": "markdown",
   "id": "eff486d7",
   "metadata": {},
   "source": [
    "## Connect with PD client"
   ]
  },
  {
   "cell_type": "code",
   "execution_count": null,
   "id": "d8ce4e23",
   "metadata": {},
   "outputs": [],
   "source": [
    "from pythonosc import udp_client\n",
    "\n",
    "# Setup a client connection and send messages to PD\n",
    "client = udp_client.UDPClient(clientIp, clientPort)\n",
    "print(f'Starting client on {clientIp}, port {clientPort}.')"
   ]
  },
  {
   "cell_type": "code",
   "execution_count": null,
   "id": "17eac354",
   "metadata": {},
   "outputs": [],
   "source": [
    "from pythonosc import osc_bundle_builder\n",
    "from pythonosc import osc_message_builder\n",
    "import time\n",
    "\n",
    "# send 10 OSC frames (custom bundles) with a messages to a client\n",
    "for i in range(10):\n",
    "    # open a OSC bundle\n",
    "    bundle = osc_bundle_builder.OscBundleBuilder(\n",
    "        osc_bundle_builder.IMMEDIATELY)\n",
    "\n",
    "    # create a message with an OSC address\n",
    "    msg = osc_message_builder.OscMessageBuilder(address=\"/pd\")\n",
    "\n",
    "    # add arguments to the message\n",
    "    msg.add_arg(f'Hello nr.{i} from python client!')\n",
    "\n",
    "    # build the message and add to current bundle\n",
    "    bundle.add_content(msg.build())\n",
    "\n",
    "    # close OSC bundle\n",
    "    bundle = bundle.build()\n",
    "\n",
    "    # send the bundle to remote client\n",
    "    client.send(bundle)\n",
    "\n",
    "    # One frame every half second\n",
    "    time.sleep(.5)\n",
    "\n",
    "print(\"done sending...\")"
   ]
  },
  {
   "cell_type": "markdown",
   "id": "88800112",
   "metadata": {},
   "source": [
    "## Serve an OSC server"
   ]
  },
  {
   "cell_type": "code",
   "execution_count": null,
   "id": "0acdf13c",
   "metadata": {},
   "outputs": [],
   "source": [
    "from pythonosc import dispatcher\n",
    "from pythonosc import osc_server\n",
    "\n",
    "# Setup different \"routes\" where we can map different functions to different OSC adressess we receive.\n",
    "def pyHandler(address, args):\n",
    "    print(f'{address} {args}')\n",
    "\n",
    "dispatcher = dispatcher.Dispatcher()\n",
    "dispatcher.map(\"/py*\", pyHandler)\n",
    "\n",
    "# A simple OSC threading server to listen for OSC messages\n",
    "server = osc_server.ThreadingOSCUDPServer((serverIp, serverPort), dispatcher)\n",
    "print(f'Starting server on {server.server_address[0]}, port {server.server_address[1]}.')\n",
    "\n",
    "# run our server\n",
    "server.serve_forever()"
   ]
  },
  {
   "cell_type": "code",
   "execution_count": null,
   "id": "b43d0dbc",
   "metadata": {},
   "outputs": [],
   "source": [
    "# closing the OSC server\n",
    "server.server_close()"
   ]
  },
  {
   "cell_type": "markdown",
   "id": "b18d636b",
   "metadata": {},
   "source": [
    "## Activity\n",
    "\n",
    "1. Test and explore the example on your local machine. Use \"localhost\" or \"127.0.0.1\" as your client and server IPs.\n",
    "2. Test and play around with the example on a Wi-Fi or wired network in pairs."
   ]
  }
 ],
 "metadata": {
  "kernelspec": {
   "display_name": "Python 3 (ipykernel)",
   "language": "python",
   "name": "python3"
  },
  "language_info": {
   "codemirror_mode": {
    "name": "ipython",
    "version": 3
   },
   "file_extension": ".py",
   "mimetype": "text/x-python",
   "name": "python",
   "nbconvert_exporter": "python",
   "pygments_lexer": "ipython3",
   "version": "3.9.16"
  }
 },
 "nbformat": 4,
 "nbformat_minor": 5
}
