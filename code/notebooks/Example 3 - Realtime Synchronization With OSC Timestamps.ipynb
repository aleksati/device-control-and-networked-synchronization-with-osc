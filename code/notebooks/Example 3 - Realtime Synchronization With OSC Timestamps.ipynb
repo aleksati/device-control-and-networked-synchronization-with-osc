{
 "cells": [
  {
   "cell_type": "markdown",
   "id": "23e85649",
   "metadata": {},
   "source": [
    "# Example 3 - Realtime Synchronization With OSC Timestamps\n",
    "\n",
    "The third example demonstrates how we can use OSC timestamps to improve synchronization and real-time musical performance over a network. The code is similar to the metronome control system introduced in example 2 but adds the option to adjust the timestamps associated with each OSC packet.\n",
    "\n",
    "The OSC timestamps are essentially NTP timestamps; a 64-bit fixed floating point number. The first 32 bits specify the number of seconds since midnight on January 1, 1900, and the last 32 bits specify fractional parts of a second to a precision of about 200 picoseconds. Fortunately, to customize the timestamp in python-osc, we only have to provide a floating point number of seconds since the epoch (midnight on January 1, 1900) in UTC, python-osc will do the rest for us. Similarly, in PD, the complexity is hidden as we just need to specify timestampOffset messages to the [mrpeach/packOSC] object to manipulate the timestamp of the next incoming OSC message.\n",
    "\n",
    "\n",
    "### Files \n",
    "1. Notebook \"Example 3 - Realtime Synchronization With OSC Timestamps\"\n",
    "2. Metronome tick \"./tick.wav\"\n",
    "3. Pure Data patch example1.pd from \"../pd/example3.pd\"\n",
    "4. Metronome tick \"../pd/tick.wav\"\n",
    "5. Notebook \"Example 4 - UTC Timestamp Printing\"\n",
    "\n",
    "<p align=\"left\">\n",
    " <img src=\"../../fig/example3.jpg\" width=500>\n",
    "</p>"
   ]
  },
  {
   "cell_type": "code",
   "execution_count": null,
   "id": "fcbf430d",
   "metadata": {},
   "outputs": [],
   "source": [
    "# setup our connection variables \n",
    "# remote client ip and port\n",
    "clientIp = '127.0.0.1'\n",
    "clientPort = 8001\n",
    "\n",
    "# local server ip and port\n",
    "serverIp = '127.0.0.1'\n",
    "serverPort = 8000"
   ]
  },
  {
   "cell_type": "markdown",
   "id": "8b53b522",
   "metadata": {},
   "source": [
    "## Connect with PD client"
   ]
  },
  {
   "cell_type": "code",
   "execution_count": null,
   "id": "922a5152",
   "metadata": {},
   "outputs": [],
   "source": [
    "from pythonosc import udp_client\n",
    "\n",
    "# Setup a client connection and send messages to PD\n",
    "client = udp_client.UDPClient(clientIp, clientPort)\n",
    "print(f'Starting client on {clientIp}, port {clientPort}.')"
   ]
  },
  {
   "cell_type": "code",
   "execution_count": null,
   "id": "21de30d8",
   "metadata": {},
   "outputs": [],
   "source": [
    "from pythonosc import osc_bundle_builder\n",
    "from pythonosc import osc_message_builder\n",
    "from datetime import datetime\n",
    "import calendar\n",
    "import time\n",
    "\n",
    "# select how many seconds to offset OSC timestamp before playback\n",
    "timestampOffset = 1\n",
    "\n",
    "# convert current DateTime to UTC UNIX Timestamp (seconds since epoch).\n",
    "date = datetime.utcnow()\n",
    "utc_timestamp = calendar.timegm(date.utctimetuple())\n",
    "\n",
    "# send OSC frames (custom bundles) with custom timestamp to the client\n",
    "while True:\n",
    "    # open a OSC bundle\n",
    "    # add a custom timestamp to the bundle builder object, instead of osc_bundle_builder.IMMEDIATELY.\n",
    "    bundle = osc_bundle_builder.OscBundleBuilder(utc_timestamp+timestampOffset)\n",
    "\n",
    "    # create a message with an OSC address\n",
    "    msg = osc_message_builder.OscMessageBuilder(address=\"/pd\")\n",
    "\n",
    "    # add arguments to the message\n",
    "    msg.add_arg(\"tick\")\n",
    "\n",
    "    # build the message and add to current bundle\n",
    "    bundle.add_content(msg.build())\n",
    "\n",
    "    # close OSC bundle\n",
    "    bundle = bundle.build()\n",
    "\n",
    "    # send the bundle to remote client\n",
    "    client.send(bundle)\n",
    "\n",
    "    # One frame every half second\n",
    "    time.sleep(.5)\n",
    "\n",
    "print(\"done sending...\")"
   ]
  },
  {
   "cell_type": "markdown",
   "id": "d294db4c",
   "metadata": {},
   "source": [
    "## Serve an OSC server\n",
    "\n",
    "When receiving an OSC bundle with a timestamp, python-osc will automatically evalute it and either delay, play or discard the incoming frame."
   ]
  },
  {
   "cell_type": "code",
   "execution_count": null,
   "id": "fbf93eb6",
   "metadata": {},
   "outputs": [],
   "source": [
    "from pythonosc import dispatcher\n",
    "from pythonosc import osc_server\n",
    "from playsound import playsound\n",
    "\n",
    "audio = \"./tick.wav\"\n",
    "\n",
    "# Setup different \"routes\" where we can map different functions to different OSC adressess we receive.\n",
    "def pyHandler(address, args):\n",
    "    print(f'{address} {args}')\n",
    "    \n",
    "    if args == \"tick\":\n",
    "        # play the tick audio file from the root dir\n",
    "        playsound(audio)\n",
    "\n",
    "dispatcher = dispatcher.Dispatcher()\n",
    "dispatcher.map(\"/py*\", pyHandler)\n",
    "\n",
    "# A simple OSC threading server to listen for OSC messages\n",
    "server = osc_server.ThreadingOSCUDPServer((serverIp, serverPort), dispatcher)\n",
    "print(f'Starting server on {server.server_address[0]}, port {server.server_address[1]}.')\n",
    "\n",
    "# run our server\n",
    "server.serve_forever()"
   ]
  },
  {
   "cell_type": "code",
   "execution_count": null,
   "id": "d903949a",
   "metadata": {},
   "outputs": [],
   "source": [
    "# closing the OSC server\n",
    "server.server_close()"
   ]
  },
  {
   "cell_type": "markdown",
   "id": "7a2f16ea",
   "metadata": {},
   "source": [
    "## Activity\n",
    "\n",
    "1. Test and explore the example on your local machine. Use \"localhost\" or \"127.0.0.1\" as your client and server IPs.\n",
    "2. By offsetting/forwarding the OSC timestamp, you should experience that your signal is more stable and resilient to jitter. According to Schmeder et.al, we can use something called Forward Synchronization to remove jitter and better synchronize two machines if the clock sync error is smaller than the average transport jitter. Try to recreate the Forward Synchronization method detailed in the literature and diagram below. Also, make the clock signal control something more interesting than a simple metronome.\n",
    "\n",
    "<p align=\"left\">\n",
    " <img src=\"../../fig/forward-sync.jpg\" width=500>\n",
    "</p>"
   ]
  }
 ],
 "metadata": {
  "kernelspec": {
   "display_name": "Python 3 (ipykernel)",
   "language": "python",
   "name": "python3"
  },
  "language_info": {
   "codemirror_mode": {
    "name": "ipython",
    "version": 3
   },
   "file_extension": ".py",
   "mimetype": "text/x-python",
   "name": "python",
   "nbconvert_exporter": "python",
   "pygments_lexer": "ipython3",
   "version": "3.9.16"
  }
 },
 "nbformat": 4,
 "nbformat_minor": 5
}
